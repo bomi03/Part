{
 "cells": [
  {
   "cell_type": "code",
   "execution_count": null,
   "id": "0af60f1b",
   "metadata": {},
   "outputs": [],
   "source": [
    "test"
   ]
  }
 ],
 "metadata": {
  "language_info": {
   "name": "python"
  }
 },
 "nbformat": 4,
 "nbformat_minor": 5
}

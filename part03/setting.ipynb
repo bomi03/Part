{
 "cells": [
  {
   "cell_type": "code",
   "execution_count": 1,
   "id": "62523c71",
   "metadata": {},
   "outputs": [
    {
     "name": "stdout",
     "output_type": "stream",
     "text": [
      "Hello world\n"
     ]
    }
   ],
   "source": [
    "print(\"Hello world\")"
   ]
  },
  {
   "cell_type": "markdown",
   "id": "9ce052c2",
   "metadata": {},
   "source": [
    "문자 앞뒤에 특수문자를 넣으면 *기울임체*가 됩니다.\n",
    "문자 앞뒤에 특수문자를 넣으면 **강조체**가 됩니다.\n",
    "문자 앞뒤에 특수문자를 넣으면 ~~~취소선~~을 만듭니다.\n",
    "문자 앞뒤에 대괄호와 괄호를 넣으면 [하이퍼링크](hhtp://www.google.com/)를 만듭니다.\n",
    "\n",
    "# 1단계 제목\n",
    "## 2단계 제목\n",
    "### 3단계 제목\n",
    "#### 4단계 제목\n",
    "\n",
    "코드에 백택(backtick) 기호를 입력하면 `pandas`와 같이 음영읗 넣습니다."
   ]
  }
 ],
 "metadata": {
  "kernelspec": {
   "display_name": "Python 3",
   "language": "python",
   "name": "python3"
  },
  "language_info": {
   "codemirror_mode": {
    "name": "ipython",
    "version": 3
   },
   "file_extension": ".py",
   "mimetype": "text/x-python",
   "name": "python",
   "nbconvert_exporter": "python",
   "pygments_lexer": "ipython3",
   "version": "3.13.3"
  }
 },
 "nbformat": 4,
 "nbformat_minor": 5
}
